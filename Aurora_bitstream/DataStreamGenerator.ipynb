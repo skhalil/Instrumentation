{
 "cells": [
  {
   "cell_type": "markdown",
   "metadata": {},
   "source": [
    "# 64B/66B  Encoding: 64-bit blocks in to 66-bit block codes\n",
    "\n",
    "## Objective\n",
    "Using the [RD53A Integrated Circuit Manual](https://cds.cern.ch/record/2287593?ln=en), we like to design a data stream resembling information being sent out of the CMS Inner Tracker detector. Below is the excerpt from the manual, explaining the data output protocol.\n",
    "\n",
    "<td> <img src=\"DataStreamFigs/Screen%20Shot%202020-04-21%20at%204.06.30%20PM.png\" alt=\"Drawing\"/> </td>\n",
    "\n",
    "There are two types of frames making up the output format, data frames and register frames (each contain 66 bits). There is always a specified amount of N data frames (a through d) before the register frame (e) and the pattern repeats. The amount 'N:1' of data frames to register is user programable, depending on the what fraction of bandwidth is reserve for the hit data. The output is encoded on 1 to 4 parallel lanes, that are also programable. Making matters more complicated, there are 4 different types of data frames, 2 types for transmitting hit information (a,b) and 2 types for when there are no hits (c,d).\n",
    "\n",
    "The interval N is used on every lane regardless of how many lanes are active. For example, with $N_D=48$, 2% of the output bandwidth is permanently unavailable for the hit data (in addition to the 3% consumed by the 2-bit header). Therefore, at $4\\times1.28$ Gbps output bandwidth, this 2% is sufficient for the maximum possible register readback (slow control) of 64 Mbps, since 2% of 5 Gbps = 100 Mbps.\n",
    "\n",
    "Lets generate such a data frame. "
   ]
  },
  {
   "cell_type": "markdown",
   "metadata": {},
   "source": [
    "### Header (2 bits)\n",
    "\n",
    "The first step is to initialize the possible data and register frames. Each frame has a 2-bit sync header that can be 01 or 10. Header 01 always indicates an Aurora data frame type, while the 10 header frames can be of user data type or Aurora command type."
   ]
  },
  {
   "cell_type": "code",
   "execution_count": 8,
   "metadata": {},
   "outputs": [
    {
     "name": "stdout",
     "output_type": "stream",
     "text": [
      "reg[0:2]: [1, 0] \n",
      "data_a[0:2]: [0, 1] \n",
      "data_b[0:2]: [1, 0] \n",
      "data_c[0:2]: [1, 0] \n",
      "data_d[0:2]: [1, 0]\n"
     ]
    }
   ],
   "source": [
    "from random import randint\n",
    "import re\n",
    "            \n",
    "data1 = [0]*66   ## Aurora Data Frame \n",
    "data2 = [0]*66   ## User Data / Aurora Command Type\n",
    "data3 = [0]*66   ## No Hits; Idle Framing Words \n",
    "data4 = [0]*66   ## No Hits; Aurora Framing Words \n",
    "reg   = [0]*66   ## Register Frame\n",
    "\n",
    "# Assign 2-bit headers\n",
    "data1[0:2] = [0,1]\n",
    "data2[0:2] = [1,0]\n",
    "data3[0:2] = [1,0]\n",
    "data4[0:2] = [1,0]\n",
    "reg[0:2]   = [1,0]\n",
    "print('reg[0:2]:', reg[0:2], '\\ndata_a[0:2]:', data1[0:2], '\\ndata_b[0:2]:', data2[0:2], '\\ndata_c[0:2]:', data3[0:2], '\\ndata_d[0:2]:', data4[0:2])"
   ]
  },
  {
   "cell_type": "markdown",
   "metadata": {},
   "source": [
    "## Register\n",
    "\n",
    "### Aurora Codes (8 bits)\n",
    "After adding the header bits, the next 8 bits are one of the five possible Aurora codes in the periodic register frame, as refered to 'zz' in the first picture.\n",
    "\n",
    "<td> <img src=\"DataStreamFigs/Screen%20Shot%202020-04-21%20at%205.28.18%20PM.png\" alt=\"Drawing\"/> </td>"
   ]
  },
  {
   "cell_type": "code",
   "execution_count": 9,
   "metadata": {},
   "outputs": [
    {
     "name": "stdout",
     "output_type": "stream",
     "text": [
      "reg[2:10] =  [0, 1, 0, 1, 0, 1, 0, 1]\n"
     ]
    }
   ],
   "source": [
    "def getHexToBinaryData(data_loc, bit_size):\n",
    "    x_bit_loc = \"{0:08b}\".format(int(data_loc, 16)).replace(\"0b\",\"\").zfill(bit_size)# remove \"0b\" and pad with 0s if needed \n",
    "    x_bits = [int(i) for i in x_bit_loc]  ## convert elements from type string to type int\n",
    "    return x_bits\n",
    "\n",
    "def get_aurora_code(zz):\n",
    "    hex_choice = ''\n",
    "    if   zz==0: hex_choice = '0xB4'  \n",
    "    elif zz==1: hex_choice = '0x55'\n",
    "    elif zz==2: hex_choice = '0x99'\n",
    "    elif zz==3: hex_choice = '0xD2'\n",
    "    elif zz==4: hex_choice = '0xCC'   \n",
    "    aurora_code = getHexToBinaryData(hex_choice, 8)\n",
    "    return aurora_code\n",
    "\n",
    "reg[2:10] = get_aurora_code(randint(0,4))\n",
    "\n",
    "print('reg[2:10] = ', reg[2:10]) "
   ]
  },
  {
   "cell_type": "markdown",
   "metadata": {},
   "source": [
    "After the 8-bit code, followed by the sync header, there are 56 bits available for user information, which are allocated as two registers (10-bit extended address plus 16-bit value = 26\n",
    "bits) plus 4 status bits:\n",
    "\n",
    "__2x( [e-address (10 bits)] [value (16 bits)] ) [status (4 bits)]__\n",
    "\n",
    "### Status Codes (4 bits)\n",
    "\n",
    "Below is the defination of $(2^4=16)$ possible 4-bit status codes. Lets not use the spare bits, meaning restraining to only 7 decimal choices.\n",
    "\n",
    "<td> <img src=\"DataStreamFigs/Screen%20Shot%202020-04-21%20at%206.28.35%20PM.png\" alt=\"Drawing\"/> </td>"
   ]
  },
  {
   "cell_type": "code",
   "execution_count": 10,
   "metadata": {},
   "outputs": [
    {
     "name": "stdout",
     "output_type": "stream",
     "text": [
      "decimal:  3 ==> reg[10:14] [0, 0, 1, 1]\n"
     ]
    }
   ],
   "source": [
    "def getDecimalToBinaryData(data_loc, bit_size):\n",
    "    x_bit_loc = str(bin(data_loc)).replace(\"0b\",\"\").zfill(bit_size) # remove \"0b\" and pad with 0s if needed\n",
    "    x_bits = [int(i) for i in x_bit_loc] \n",
    "    return x_bits\n",
    "\n",
    "status_code = randint(0,6) # (0,15) in case user defines additional status for (7,15) bits              \n",
    "reg[10:14] = getDecimalToBinaryData(status_code, 4)\n",
    "print('decimal: ',status_code,'==> reg[10:14]',reg[10:14]) "
   ]
  },
  {
   "cell_type": "markdown",
   "metadata": {},
   "source": [
    "### Auto-fill A/B register address values (16 bits)\n",
    "The two 16-bit registers are denoted $A_i$ and $B_i$, where $i$ is the lane number (0 to 3). The automatic filling of the $A_i$ and $B_i$ registers is controlled by eight configuration registers Auto-$A_i$ and Auto-$B_i$, which have default values, but which the user is free to change. \n",
    "\n",
    "<td> <img src=\"DataStreamFigs/Screen%20Shot%202020-04-21%20at%209.19.13%20PM.png\" alt=\"Drawing\"/> </td>\n",
    "\n",
    "The auto-fill register addresses are specific to each lane. Thus if only lane 0 is used then only Auto-$A_0$ and Auto-$B_0$ are functional. "
   ]
  },
  {
   "cell_type": "code",
   "execution_count": 11,
   "metadata": {
    "scrolled": true
   },
   "outputs": [
    {
     "name": "stdout",
     "output_type": "stream",
     "text": [
      "reg[24:40] =  [1, 0, 0, 0, 1, 0, 0, 0, 1, 0, 0, 0, 1, 0, 0, 0] \n",
      "reg[50:66] =  [1, 0, 0, 0, 0, 0, 1, 0, 1, 0, 0, 0, 0, 0, 1, 0] \n",
      "\n"
     ]
    }
   ],
   "source": [
    "reg[24:32] = getDecimalToBinaryData(136, 8)\n",
    "reg[32:40] = getDecimalToBinaryData(136, 8)\n",
    "reg[50:58] = getDecimalToBinaryData(130, 8)\n",
    "reg[58:66] = getDecimalToBinaryData(130, 8)\n",
    "\n",
    "print('reg[24:40] = ', reg[24:40], '\\nreg[50:66] = ', reg[50:66],'\\n')"
   ]
  },
  {
   "cell_type": "markdown",
   "metadata": {},
   "source": [
    "### Extended register address (10 bits)\n",
    "The extended 10 bit address can have two of the following cases \n",
    "1. MSB=0, followed by the 9-bit global register address (0-511) \n",
    "2. MSB=1, followed by the 9-bit offset pixel row address (512-895)\n",
    "\n",
    "The separation of the output into two time multiplexed channels guarantees a certain bandwidth for both data and register information without the need for a complex priority arbitration containing safeguards against all possible pathologies."
   ]
  },
  {
   "cell_type": "code",
   "execution_count": 12,
   "metadata": {},
   "outputs": [
    {
     "name": "stdout",
     "output_type": "stream",
     "text": [
      "extended address: 852\n",
      "reg[14:24]: [1, 1, 0, 1, 0, 1, 0, 1, 0, 0] \n",
      "reg[40:50]: [1, 1, 0, 1, 0, 1, 0, 1, 0, 0]\n"
     ]
    }
   ],
   "source": [
    "extended_address = randint(0,895)\n",
    "reg[14:24]  = getDecimalToBinaryData(extended_address, 10)\n",
    "reg[40:50]  = getDecimalToBinaryData(extended_address, 10)\n",
    "print('extended address:', extended_address)\n",
    "print('reg[14:24]:', reg[14:24],'\\nreg[40:50]:', reg[40:50]) "
   ]
  },
  {
   "cell_type": "markdown",
   "metadata": {},
   "source": [
    "Lets break it down and print the full register."
   ]
  },
  {
   "cell_type": "code",
   "execution_count": 13,
   "metadata": {},
   "outputs": [
    {
     "name": "stdout",
     "output_type": "stream",
     "text": [
      "reg[0:2] =  [1, 0] \n",
      "reg[2:10] =  [0, 1, 0, 1, 0, 1, 0, 1] \n",
      "reg[10:14] =  [0, 0, 1, 1] \n",
      "reg[14:24] =  [1, 1, 0, 1, 0, 1, 0, 1, 0, 0] \n",
      "reg[24:40] =  [1, 0, 0, 0, 1, 0, 0, 0, 1, 0, 0, 0, 1, 0, 0, 0] \n",
      "reg[40:50] =  [1, 1, 0, 1, 0, 1, 0, 1, 0, 0] \n",
      "reg[50:66] =  [1, 0, 0, 0, 0, 0, 1, 0, 1, 0, 0, 0, 0, 0, 1, 0] \n",
      "\n",
      "register size:  66 \n",
      "reg =  [1, 0, 0, 1, 0, 1, 0, 1, 0, 1, 0, 0, 1, 1, 1, 1, 0, 1, 0, 1, 0, 1, 0, 0, 1, 0, 0, 0, 1, 0, 0, 0, 1, 0, 0, 0, 1, 0, 0, 0, 1, 1, 0, 1, 0, 1, 0, 1, 0, 0, 1, 0, 0, 0, 0, 0, 1, 0, 1, 0, 0, 0, 0, 0, 1, 0]\n"
     ]
    }
   ],
   "source": [
    "print('reg[0:2] = ', reg[0:2], '\\nreg[2:10] = ', reg[2:10], '\\nreg[10:14] = ', reg[10:14], \n",
    "      '\\nreg[14:24] = ', reg[14:24],'\\nreg[24:40] = ', reg[24:40], '\\nreg[40:50] = ', reg[40:50],\n",
    "      '\\nreg[50:66] = ', reg[50:66],'\\n')\n",
    "print ('register size: ', len(reg), '\\nreg = ', reg)\n",
    "#for c, i in enumerate(reg):\n",
    "#    print (c, i)\n",
    "#    c = c+1"
   ]
  },
  {
   "cell_type": "markdown",
   "metadata": {},
   "source": [
    "## Idle Frames: Data(c) and Data(d)\n",
    "\n",
    "When there are no hits, two possible frames may be sent. Both start with a binary “10” header. Followed by the header, frame Data(c) has a 0x1E hex or 8-bit code 00011110, with the remaining 48 bits set to 0. The other idle data frame, Data(d), followed by the header has a 0x78 hex or 8-bit code 01111000, with another 8-bit code from the Aurora code zz table. Then, there are 48-bits of “unused” data, which could mean that we do not read that data.  We will keep them to set to 0 as we did in Data(c) through initialization."
   ]
  },
  {
   "cell_type": "code",
   "execution_count": 14,
   "metadata": {},
   "outputs": [
    {
     "name": "stdout",
     "output_type": "stream",
     "text": [
      "data_c:  [1, 0, 0, 0, 0, 1, 1, 1, 1, 0, 0, 0, 0, 0, 0, 0, 0, 0, 0, 0, 0, 0, 0, 0, 0, 0, 0, 0, 0, 0, 0, 0, 0, 0, 0, 0, 0, 0, 0, 0, 0, 0, 0, 0, 0, 0, 0, 0, 0, 0, 0, 0, 0, 0, 0, 0, 0, 0, 0, 0, 0, 0, 0, 0, 0, 0] \n",
      "data_d:  [1, 0, 0, 1, 1, 1, 1, 0, 0, 0, 0, 1, 0, 1, 0, 1, 0, 1, 0, 0, 0, 0, 0, 0, 0, 0, 0, 0, 0, 0, 0, 0, 0, 0, 0, 0, 0, 0, 0, 0, 0, 0, 0, 0, 0, 0, 0, 0, 0, 0, 0, 0, 0, 0, 0, 0, 0, 0, 0, 0, 0, 0, 0, 0, 0, 0]\n"
     ]
    }
   ],
   "source": [
    "data3[2:10]  = getHexToBinaryData('0x1E', 8)\n",
    "\n",
    "data4[2:10]  = getHexToBinaryData('0x78', 8)\n",
    "data4[10:18] = get_aurora_code(randint(0,4)) ## Additional possible 8-bit Aurora code\n",
    "\n",
    "print ('data_c: ', data3, '\\ndata_d: ', data4)"
   ]
  },
  {
   "cell_type": "markdown",
   "metadata": {},
   "source": [
    "## Hit or Event Header Frames: Data(a) and Data(b)\n",
    "\n",
    "### Pixel address in Hit Data (32 bits)\n",
    "\n",
    "The pixel addressing is hierarchical, first in cores (like postal codes), then regions within a core\n",
    "(like the street address), and then a pixel pair forming 1-bit (like a town house in each street). Each 32-bit data register contains information from two 16-bit pixel quadcore addresses. In the readout the basic unit is the quad region, and thus in each data record the 16-bit pixel quad core address is given by a \n",
    "\n",
    "6 bit core column [15:10]=Core\\_Col, 6 bit core row [9:4]=Core\\_Row, and 3 bit core region [3:0]=Region\\_in\\_Core. \n",
    "\n",
    "This structure is shown graphically below. The address is followed by four 4-bit 'Time over Threshold' values, where the first value is the left-most pixel (left as defined in Fig below). __The 4 pixels are always in the same chip row with increasing column numbers. Thus the address of each group is given by a 4-column and a row.__\n",
    "\n",
    "<td> <img src=\"DataStreamFigs/Screen%20Shot%202020-04-22%20at%201.51.05%20AM.png\" alt=\"Drawing\"/> </td>\n",
    "\n",
    "For configuration the Core\\_Col and Core\\_Row values are preserved in registers 1 and 2, respectively, but the four Region\\_in\\_Core are divided between the two registers as follows. Additionally, there is a Pair\\_in\\_Region bit need (17 total bits instead of 16), because configuration is written in pixel pairs rather than quads.\n",
    "\n",
    "Register 1= [7:2]=Core\\_Col, [1]=Region\\_in\\_Core[0], [0]=Pair\\_in\\_Region\n",
    "\n",
    "Register 2= [8:3]=Core\\_Row, [2:0]=Region\\_in\\_Core[3:1]\n",
    "\n",
    "In this way, Register 1 has the traditional column pair meaning, while Register 2 has the row meaning.\n",
    "\n",
    "### Data(b)\n",
    "\n",
    "Data(b) frame used in transmitting data can either be of user data type or Aurora command type. From the first figure at the start, lets fill the first 32 bits. Followed by the 2 bit header (10), the data frame has a 0x1E hex or 8-bit 00011110 code, then another 0x04 hex or 8-bit 00000100, another 0x0000 hex or 16 bit 0000000000000000 code. After these codes, 32-bits of data are transmitted in the pixel address format explained above."
   ]
  },
  {
   "cell_type": "code",
   "execution_count": 15,
   "metadata": {},
   "outputs": [
    {
     "name": "stdout",
     "output_type": "stream",
     "text": [
      "data2[2:10] =  [0, 0, 0, 1, 1, 1, 1, 0] \n",
      "data2[10:18] =  [0, 0, 0, 0, 0, 1, 0, 0] \n",
      "data2[18:34] =  [0, 0, 0, 0, 0, 0, 0, 0, 0, 0, 0, 0, 0, 0, 0, 0]\n"
     ]
    }
   ],
   "source": [
    "data2[2:10]   = getHexToBinaryData('0x1E', 8)  \n",
    "data2[10:18]  = getHexToBinaryData('0x04', 8)\n",
    "data2[18:34]  = getHexToBinaryData('0x0000', 16)\n",
    "\n",
    "print('data2[2:10] = ', data2[2:10], '\\ndata2[10:18] = ', data2[10:18], \n",
    "      '\\ndata2[18:34] = ', data2[18:34])"
   ]
  },
  {
   "cell_type": "code",
   "execution_count": 16,
   "metadata": {},
   "outputs": [
    {
     "name": "stdout",
     "output_type": "stream",
     "text": [
      "data2[34:40] =  [0, 1, 0, 0, 0, 0] , data2[40:41] =  [0] \n",
      "data2[41:47] =  [0, 0, 0, 0, 1, 0] \n",
      "data2[47:50] =  [1, 1, 0] \n",
      "data2[50:56] =  [0, 1, 0, 0, 0, 1] , data2[56:57] =  [0] \n",
      "data2[57:63] =  [0, 0, 0, 0, 1, 0] \n",
      "data2[63:66] =  [1, 1, 0]\n",
      "\n",
      "data_b =  [1, 0, 0, 0, 0, 1, 1, 1, 1, 0, 0, 0, 0, 0, 0, 1, 0, 0, 0, 0, 0, 0, 0, 0, 0, 0, 0, 0, 0, 0, 0, 0, 0, 0, 0, 1, 0, 0, 0, 0, 0, 0, 0, 0, 0, 1, 0, 1, 1, 0, 0, 1, 0, 0, 0, 1, 0, 0, 0, 0, 0, 1, 0, 1, 1, 0]\n"
     ]
    }
   ],
   "source": [
    "col = randint(1,63)                   # highest number count in decimal for a 6 bit address\n",
    "row = randint(1,63)                   # highest number count in decimal for a 6 bit address\n",
    "region = randint(1,7)                 # highest number count in decimal for a 3 bit address\n",
    "\n",
    "## Createss 2 pixel addresses for the data2 frame, that are displayed by increasing column number\n",
    "if   col< 64: col2=col+1              \n",
    "elif col==64: col2=col-1\n",
    "\n",
    "## Create a 6 bit pixel column\n",
    "data2[34:40] = getDecimalToBinaryData(col, 6)\n",
    "\n",
    "## Create a second 6 bit pixel column\n",
    "data2[50:56] = getDecimalToBinaryData(col2, 6)\n",
    "\n",
    "## Creates a 6 bit pixel_row \n",
    "data2[41:47] = getDecimalToBinaryData(row, 6)\n",
    "data2[57:63] = getDecimalToBinaryData(row, 6)\n",
    "\n",
    "## Creates a 3 bit region\n",
    "data2[47:50]= getDecimalToBinaryData(region, 3)\n",
    "data2[63:66]= getDecimalToBinaryData(region, 3)\n",
    "\n",
    "### -----> Why bits 40 and 56 are left with value 0?\n",
    "print('data2[34:40] = ', data2[34:40], ', data2[40:41] = ', data2[40:41],\n",
    "      '\\ndata2[41:47] = ', data2[41:47], \n",
    "      '\\ndata2[47:50] = ', data2[47:50],\n",
    "      '\\ndata2[50:56] = ', data2[50:56], ', data2[56:57] = ',  data2[56:57],\n",
    "      '\\ndata2[57:63] = ', data2[57:63],\n",
    "      '\\ndata2[63:66] = ', data2[63:66]\n",
    "     ) \n",
    "print ('\\ndata_b = ', data2)\n",
    "#for c, i in enumerate(data2):\n",
    "#    print (c, i)\n",
    "#    c = c+1"
   ]
  },
  {
   "cell_type": "markdown",
   "metadata": {},
   "source": [
    "### Data(a)\n",
    "The Aurora data frame begins with a 2-bit “01” header. Then are the two 32-bit registers corresponding to Hit data or Event Header data."
   ]
  },
  {
   "cell_type": "code",
   "execution_count": 17,
   "metadata": {},
   "outputs": [
    {
     "name": "stdout",
     "output_type": "stream",
     "text": [
      "data1[2:8] =  [0, 1, 1, 0, 1, 1] , data1[8:9] =  [0] \n",
      "data1[9:15] =  [1, 0, 1, 1, 0, 0] \n",
      "data1[15:18] =  [1, 1, 0] \n",
      "data1[18:24] =  [0, 1, 1, 1, 0, 0] , data1[24:25] =  [0] \n",
      "data1[25:31] =  [1, 0, 1, 1, 0, 0] \n",
      "data1[31:34] =  [1, 1, 0] \n",
      "data1[34:40] =  [0, 1, 1, 1, 0, 1] , data1[40:41] =  [0] \n",
      "data1[41:47] =  [1, 0, 1, 1, 0, 0] \n",
      "data1[47:50] =  [1, 1, 0] \n",
      "data1[50:56] =  [0, 1, 1, 1, 1, 0] , data1[56:57] =  [0] \n",
      "data1[57:63] =  [1, 0, 1, 1, 0, 0] \n",
      "data1[63:66] =  [1, 1, 0]\n",
      "\n",
      "data_a =  [0, 1, 0, 1, 1, 0, 1, 1, 0, 1, 0, 1, 1, 0, 0, 1, 1, 0, 0, 1, 1, 1, 0, 0, 0, 1, 0, 1, 1, 0, 0, 1, 1, 0, 0, 1, 1, 1, 0, 1, 0, 1, 0, 1, 1, 0, 0, 1, 1, 0, 0, 1, 1, 1, 1, 0, 0, 1, 0, 1, 1, 0, 0, 1, 1, 0]\n"
     ]
    }
   ],
   "source": [
    "col = randint(1,63)                  # highest number count in decimal for a 6 bit address\n",
    "row = randint(1,63)                  # highest number count in decimal for a 6 bit address\n",
    "region = randint(1,7)                # highest number count in decimal for a 3 bit address\n",
    "\n",
    "## Createss 4 pixel addresses for the data1 frame, that are displayed by increasing column number\n",
    "if col < 60:\n",
    "    col2=col+1\n",
    "    col3=col+2\n",
    "    col4=col+3\n",
    "elif col>60:\n",
    "    col2=col-1\n",
    "    col3=col-2\n",
    "    col4=col-3\n",
    "    \n",
    "## Create four 6 bit pixel_columns \n",
    "data1[2:8]  = getDecimalToBinaryData(col, 6)\n",
    "data1[18:24]= getDecimalToBinaryData(col2, 6)\n",
    "data1[34:40]= getDecimalToBinaryData(col3, 6)\n",
    "data1[50:56]= getDecimalToBinaryData(col4, 6)\n",
    "\n",
    "## Create four 6 bit row_columns\n",
    "data1[9:15] = getDecimalToBinaryData(row, 6)\n",
    "data1[25:31]= getDecimalToBinaryData(row, 6)\n",
    "data1[41:47]= getDecimalToBinaryData(row, 6)\n",
    "data1[57:63]= getDecimalToBinaryData(row, 6)\n",
    "\n",
    "## Creates possible 3 bit regions \n",
    "data1[15:18]= getDecimalToBinaryData(region, 3)\n",
    "data1[31:34]= getDecimalToBinaryData(region, 3) \n",
    "data1[47:50]= getDecimalToBinaryData(region, 3) \n",
    "data1[63:66]= getDecimalToBinaryData(region, 3) \n",
    "\n",
    "### -----> Why bits 8, 24, 40 and 56 are left with value 0?\n",
    "print('data1[2:8] = ',data1[2:8], ', data1[8:9] = ',data1[8:9],\n",
    "      '\\ndata1[9:15] = ',data1[9:15], \n",
    "      '\\ndata1[15:18] = ',data1[15:18], \n",
    "      '\\ndata1[18:24] = ',data1[18:24], ', data1[24:25] = ',data1[24:25],\n",
    "      '\\ndata1[25:31] = ',data1[25:31], \n",
    "      '\\ndata1[31:34] = ',data1[31:34], \n",
    "      '\\ndata1[34:40] = ',data1[34:40], ', data1[40:41] = ',data1[40:41],\n",
    "      '\\ndata1[41:47] = ',data1[41:47],\n",
    "      '\\ndata1[47:50] = ',data1[47:50],\n",
    "      '\\ndata1[50:56] = ',data1[50:56], ', data1[56:57] = ',data1[56:57],\n",
    "      '\\ndata1[57:63] = ',data1[57:63],\n",
    "      '\\ndata1[63:66] = ',data1[63:66],\n",
    "     )\n",
    "\n",
    "print ('\\ndata_a = ', data1)\n",
    "#for c, i in enumerate(data1):\n",
    "#    print (c, i)\n",
    "#    c = c+1"
   ]
  },
  {
   "cell_type": "markdown",
   "metadata": {},
   "source": [
    "# Bit stream\n",
    "\n",
    "With one register and four data frames, each of 66 bit, let write a bit stream. For a bit size of 32768, we need to write 32768/66 ~ 492 frames. If we choose to have data frames to appear N=4 followed by register, then we must have a counter of size 496 to create the pattern for example: R + D4+D4+D4+D4 + R + D1+D1+D1+D1 + R + ..... We must pad the final bitstream to zeros to ensure the total size of bits is 32768."
   ]
  },
  {
   "cell_type": "code",
   "execution_count": 18,
   "metadata": {},
   "outputs": [
    {
     "name": "stdout",
     "output_type": "stream",
     "text": [
      "bitstream size 32472 , lets do padding by zeros\n"
     ]
    }
   ],
   "source": [
    "'''\n",
    "print('reg: ', reg, '\\n')\n",
    "print('\\ndata1:', data1, '\\n')\n",
    "print('\\ndata2:', data2, '\\n')\n",
    "print('\\ndata3:', data3, '\\n')\n",
    "print('\\ndata4:', data4, '\\n')\n",
    "'''\n",
    "def padZeros(bit_stream, size):\n",
    "    a = ''.join(str(bit) for bit in bit_stream)\n",
    "    b = a.zfill(size)\n",
    "    final_stream = [int(i) for i in b] \n",
    "    return final_stream\n",
    "\n",
    "f=open(\"DataStream.coe\",\"w+\")                     ## Sets up the coe file\n",
    "f.write(\"*********************************************************\\n\")\n",
    "f.write(\"*********** Dual Port Block Memory .COE file ************\\n\")\n",
    "f.write(\"*********************************************************\\n\")\n",
    "f.write(\"; memory initialization file for Dual Port Block Memory,\\n\")\n",
    "f.write(\"; v3.0 or later.\\n\")\n",
    "f.write(\";\\n\")\n",
    "f.write(\"; This .COE file specifies the contents for a block memory\\n\")\n",
    "f.write(\"; of depth=1024, and width=32. In this case, values are \\n\")\n",
    "f.write(\"; specified in binary format.\\n\")\n",
    "f.write(\"memory_initialization_radix=2\\n\")\n",
    "f.write(\"memory_initialization_vector=\\n\")\n",
    "\n",
    "bits = 32768     ## 2^8 * 128 = 256 * 128 ?\n",
    "bit_stream = []\n",
    "\n",
    "## Writes 32768/66~492 frames or 492*66=32,472 bits to the coe file, \n",
    "## then pad it to zeros to get the right size.\n",
    "\n",
    "count = 0; frame_choice=0;              \n",
    "while count < 496:                   ## As we must start with the register, lets keep the counter to 496            \n",
    "    if ((count%4==0) & (count!=0)):  ## Makes the register frame periodically appear after every N = 4 data frames\n",
    "        bit_stream.extend(reg)\n",
    "        frame_choice=randint(1,4)\n",
    "        #print(frame_choice)\n",
    "    elif(count%4!=0):               ## Randomly choose one of the four possible data frames and repeat it 4 times    \n",
    "        if   frame_choice==1: bit_stream.extend(data1)\n",
    "        elif frame_choice==2: bit_stream.extend(data2)\n",
    "        elif frame_choice==3: bit_stream.extend(data3)\n",
    "        elif frame_choice==4: bit_stream.extend(data4)          \n",
    "    count = count+1 \n",
    "\n",
    "if len(bit_stream) < bits:  \n",
    "    print('bitstream size', len(bit_stream), ', lets do padding by zeros')\n",
    "    stream_to_write = padZeros(bit_stream, bits)\n",
    "else:\n",
    "    print('bitstream size', len(bit_stream), ', no zero padding required')\n",
    "    stream_to_write = bit_stream\n",
    "    \n",
    "i = 0; b = '';\n",
    "for j in range(32, bits+32, 32):  #(4, bits+4, 32)              \n",
    "    #print (j)    \n",
    "    a = ' '.join(str(bit) for bit  in stream_to_write[i:j] )\n",
    "    if j !=0 : b = a+','\n",
    "    i = j                              \n",
    "    if j == bits: b = b.replace(',', ';')    # add the semicolon in the last row\n",
    "    b = re.sub(r\"\\s+\", \"\", b)                # remove the white spaces\n",
    "    #print (b)\n",
    "    f.write(b+'\\n')\n",
    "\n",
    "#print(','.join(str(bit) for bit in stream_to_write))\n",
    "#f.write(','.join(str(bit) for bit in stream_to_write)) \n",
    "\n",
    "stream_to_write.clear()\n",
    "bit_stream.clear()\n",
    "f.close()"
   ]
  }
 ],
 "metadata": {
  "kernelspec": {
   "display_name": "Python 3",
   "language": "python",
   "name": "python3"
  },
  "language_info": {
   "codemirror_mode": {
    "name": "ipython",
    "version": 3
   },
   "file_extension": ".py",
   "mimetype": "text/x-python",
   "name": "python",
   "nbconvert_exporter": "python",
   "pygments_lexer": "ipython3",
   "version": "3.6.8"
  }
 },
 "nbformat": 4,
 "nbformat_minor": 2
}
